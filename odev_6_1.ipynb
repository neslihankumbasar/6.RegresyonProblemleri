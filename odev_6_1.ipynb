{
 "cells": [
  {
   "cell_type": "code",
   "execution_count": 1,
   "metadata": {},
   "outputs": [],
   "source": [
    "### Soru 1:\n",
    "## Birkaç ülke için elinizde finansal, ekonomik ve sosyal göstergeler hakkında Dünya Bankası verileri olduğunu varsayalım. \n",
    "## Bu ülkelerdeki gelişme düzeyini etkileyen faktörleri ölçmek istiyorsunuz. \n",
    "## Bu amaçla, milli gelirin nüfusa bölümü olarak tanımlanan kişi başına düşen milli geliri, kalkınma seviyesi için bir vekil olarak kullanmaya karar verdiniz. \n",
    "## Kişi başına geliri tahmin etmek için veri kümenizdeki bazı özellikleri kullanmak istiyorsunuz. \n",
    "## Bu görev bir sınıflandırma görevi mi yoksa bir regresyon görevi mi? Niçin?"
   ]
  },
  {
   "cell_type": "markdown",
   "metadata": {},
   "source": [
    "Kisi basi gelir tahmin etmede; sürekli ya da çok fazla değere sahip olan sonuç değişkenleriyle ilgileniriz. \n",
    "\n",
    "Kullanilan degiskenlerin bu sekilde oldugunu gordugumuzden \" **Regresyon** bunları sürekli olarak almanın en kolay yolu olur\" diyebiliriz.\n",
    "\n",
    "GSYİH (Gayri Safi Yurt İçi Hasıla) = Tarım + Sanayi + İnşaat + Ticaret + Ulaştırma, Haberleşme + Mali Kuruluşlar + Konut + Hizmetler Toplamı (Kamu ve Özel) + İthalat Vergisi\n",
    "\n",
    "GSMH = GSYİH + Yurtdışında bulunan vatandaşların gelirleri - Yurtiçindeki yabancıların gelirleri\n",
    "\n",
    "GSMH ile İlgili Formüller:\n",
    "\n",
    "SMH = GSMH – Amortismanlar\n",
    "MG = SMH – Dolaylı Vergiler\n",
    "MG = SMH – Dolaylı Vergiler + Sübvansiyonlar\n",
    "MG = GSMH – Amortismanlar – Dolaylı Vergiler + Sübvansiyonlar\n",
    "MG = Ücret + Faiz + Rant + Kâr\n",
    "KG = MG – (Sosyal Güvenlik Kesenekleri + Kurumlar Vergisi + Dağıtılmayan Kârlar)+Transferler\n",
    "HG = KG – Dolaysız Vergiler"
   ]
  },
  {
   "cell_type": "code",
   "execution_count": 4,
   "metadata": {},
   "outputs": [],
   "source": [
    "### Soru 2 :\n",
    "## Aşağıdaki argümanlardan hangileri yanlıştır ve neden?\n",
    "##   OLS, özel bir doğrusal regresyon modelidir.\n",
    "##   Regresyon modelleri, doğrusal regresyon varsayımlarını karşılamıyorsa kullanışsız hale gelir.\n",
    "##   Estimation ve prediction, doğrusal regresyon modelleri bağlamında aynı şeydir.\n",
    "##   Doğrusal regresyon modeli sadece bir tür regresyon modelidir.Regresyon problemleri, Support Vector Machines veya Random Forests gibi başka modellerle de çözülebilir."
   ]
  },
  {
   "cell_type": "markdown",
   "metadata": {},
   "source": [
    "1) Dogru. En küçük kareler yöntemi (OLS) , birbirine bağlı olarak değişen iki fiziksel büyüklük arasındaki ilişkiyi mümkün olduğunca gerçeğe uygun bir denklem olarak yazmak için kullanılan bir regresyon yöntemidir. \n",
    "\n",
    "2) Yanlis.Belirtilen koşulları karşılamadığında bile doğrusal regresyon kullanmak için alabileceğimiz bazı yaklaşımlar kullanilarak etkin hale getirilebilir.\n",
    "\n",
    "3) Yanlis. Estimation; modelimizin daha önce görülmemiş gözlemlerde ne kadar iyi performans göstereceğini objektif olarak belirlemenin bir yolunu sunar. Prediction da ise gelecek kavrami isin icine girer,henuz yasanmamis durum icin bir tahmindir diyebiliriz.\n",
    "\n",
    "4) Dogru."
   ]
  },
  {
   "cell_type": "code",
   "execution_count": 6,
   "metadata": {},
   "outputs": [],
   "source": [
    "### Soru 3 :\n",
    "## Proje yöneticinizin, şirketinizin sunduğu hangi ücretsiz hizmetlerin, müşterilerinizin daha fazla ücretli hizmet satın almasını sağladığını bulmanızı istediğini varsayalım. \n",
    "## Bu görevi bir regresyon problemi olarak formüle edin ve üzerinde çalışmak istediğiniz potansiyel sonucu ve özellikleri yazın."
   ]
  },
  {
   "cell_type": "markdown",
   "metadata": {},
   "source": [
    "y=α+βx bu formulden yola cikarsak soyle formul olusturabiliriz:\n",
    "\n",
    "Hizmet = Hizmet bedeli + 10 * Ucretsiz Support\n",
    "\n",
    "bu sekilde ucretli hizmet satin alinmasi daha cazip bir hale getirilip pazarlama yapilabilir."
   ]
  },
  {
   "cell_type": "code",
   "execution_count": null,
   "metadata": {},
   "outputs": [],
   "source": []
  }
 ],
 "metadata": {
  "kernelspec": {
   "display_name": "Python 3",
   "language": "python",
   "name": "python3"
  },
  "language_info": {
   "codemirror_mode": {
    "name": "ipython",
    "version": 3
   },
   "file_extension": ".py",
   "mimetype": "text/x-python",
   "name": "python",
   "nbconvert_exporter": "python",
   "pygments_lexer": "ipython3",
   "version": "3.7.3"
  }
 },
 "nbformat": 4,
 "nbformat_minor": 2
}
